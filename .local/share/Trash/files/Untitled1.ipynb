{
 "cells": [
  {
   "cell_type": "code",
   "execution_count": 1,
   "id": "826c0eff-50fb-4b75-b654-4ae347412fa1",
   "metadata": {},
   "outputs": [],
   "source": [
    "# define the filename\n",
    "filename <- \"iris.csv\"\n",
    "# load the CSV file from the local directory\n",
    "dataset <- read.csv(filename, header=FALSE)\n",
    "# set the column names in the dataset\n",
    "colnames(dataset) <- c(\"Sepal.Length\",\"Sepal.Width\",\"Petal.Length\",\"Petal.Width\",\"Species\")\n"
   ]
  },
  {
   "cell_type": "code",
   "execution_count": 6,
   "id": "821bcce4-40d9-4a78-acd4-8ece98afd112",
   "metadata": {},
   "outputs": [
    {
     "name": "stderr",
     "output_type": "stream",
     "text": [
      "Warning message:\n",
      "“dependencies ‘randomForest’, ‘R2wd’, ‘DiscriMiner’, ‘extraTrees’, ‘nodeHarvest’, ‘rknn’, ‘rrlda’, ‘fts’, ‘sylly.de’, ‘sylly.es’, ‘RTCGA.rnaseq’, ‘globaltest’, ‘Vdgraph’, ‘rPython’, ‘locfit’, ‘graph’, ‘lmeInfo’, ‘phangorn’, ‘actuar’, ‘geoR’, ‘marray’, ‘affy’, ‘Biobase’, ‘limma’, ‘Rgraphviz’, ‘RandomFields’, ‘starsdata’, ‘cairoDevice’, ‘RGtk2’, ‘glmmADMB’, ‘rnaturalearthhires’, ‘GAMBoost’, ‘Rcampdf’, ‘tm.lexicon.GeneralInquirer’, ‘cmdstanr’, ‘dblog’, ‘Zelig’, ‘ExactData’, ‘ComplexHeatmap’, ‘M3C’, ‘spDataLarge’, ‘RDCOMClient’, ‘tobit1’, ‘taxidata’, ‘echarts4r’, ‘ri’, ‘genefilter’, ‘sva’, ‘evdbayes’, ‘BiocVersion’ are not available”\n",
      "also installing the dependencies ‘argon2’, ‘getPass’, ‘webfakes’, ‘asciicast’, ‘shinyjs’, ‘git2r’, ‘filelock’, ‘pingr’, ‘pkgcache’, ‘pkgdepends’, ‘pkgsearch’, ‘Rmosek’, ‘gistr’, ‘BiocManager’, ‘packrat’, ‘pak’, ‘REBayes’, ‘geojsonio’, ‘renv’, ‘showtextdb’, ‘ashr’, ‘prettycode’, ‘highcharter’, ‘dockerfiler’, ‘attachment’, ‘sysfonts’, ‘showtext’, ‘synchronicity’, ‘mail’, ‘ncvreg’, ‘cobs’, ‘mvPot’, ‘gmm’, ‘revdbayes’, ‘ismev’, ‘TruncatedNormal’, ‘rngWELL’, ‘TSP’, ‘kdecopula’, ‘htmlTable’, ‘styler’, ‘shinyAce’, ‘shinyEffects’, ‘shinyjqui’, ‘golem’, ‘thematic’, ‘cond’, ‘nlreg’, ‘mvnfast’, ‘NMF’, ‘cccd’, ‘coRanking’, ‘diffusionMap’, ‘loe’, ‘pcaL1’, ‘visreg’, ‘biglasso’, ‘bigmemory’, ‘KernelKnn’, ‘LogicReg’, ‘SIS’, ‘crop’, ‘lcopula’, ‘mev’, ‘mvnormtest’, ‘qrng’, ‘randtoolbox’, ‘Runuran’, ‘VineCopula’, ‘dr’, ‘ash’, ‘geozoo’, ‘PairedData’, ‘RcmdrPlugin.HH’, ‘microplot’, ‘sommer’, ‘shinydashboard’, ‘shinydashboardPlus’, ‘bs4Dash’, ‘argonR’, ‘argonDash’, ‘tablerDash’, ‘shinydisconnect’, ‘marg’, ‘fabricatr’, ‘randomizr’, ‘Matching’, ‘clisymbols’, ‘ddalpha’, ‘dimRed’, ‘QSARdata’, ‘ggstance’, ‘weights’, ‘wesanderson’, ‘ROI.plugin.ecos’, ‘ROI.plugin.neos’, ‘ROI.plugin.alabama’, ‘FactoInvestigate’, ‘smcfcs’, ‘casebase’, ‘ipw’, ‘nnls’, ‘SuperLearner’, ‘gld’, ‘conflicted’, ‘plotfunctions’, ‘copula’, ‘LDRTools’, ‘tourr’, ‘RhpcBLASctl’, ‘Rmixmod’, ‘desplot’, ‘equivalence’, ‘gge’, ‘HH’, ‘lucid’, ‘NADA’, ‘nullabor’, ‘qicharts’, ‘qtl’, ‘SpATS’, ‘dismo’, ‘BRugs’, ‘registry’, ‘rbibutils’, ‘shinyWidgets’, ‘colourpicker’, ‘flashClust’, ‘csampling’, ‘gameofthrones’, ‘harrypotter’, ‘oompaBase’, ‘palr’, ‘pals’, ‘scico’, ‘censReg’, ‘crch’, ‘datawizard’, ‘epiR’, ‘estimatr’, ‘feisr’, ‘fungible’, ‘gmnl’, ‘JM’, ‘logistf’, ‘mhurdle’, ‘multgee’, ‘stddiff’, ‘tableone’, ‘butcher’, ‘jtools’, ‘ggpol’, ‘ez’, ‘ggResidpanel’, ‘detectseparation’, ‘svDialogs’, ‘SemiPar’, ‘CVST’, ‘ca’, ‘missMDA’, ‘Factoshiny’, ‘modelsummary’, ‘riskRegression’, ‘bench’, ‘brmsmargins’, ‘ggdag’, ‘glmx’, ‘here’, ‘itsadug’, ‘margins’, ‘mclogit’, ‘prediction’, ‘scam’, ‘tsModel’, ‘skimr’, ‘adespatial’, ‘shape’, ‘zipfR’, ‘energy’, ‘ggcorrplot’, ‘mbend’, ‘ppcor’, ‘rmcorr’, ‘wdm’, ‘transformr’, ‘Gmedian’, ‘rrcov’, ‘ICSNP’, ‘moments’, ‘REPPlab’, ‘shinyBS’, ‘OpenStreetMap’, ‘rjson’, ‘networkD3’, ‘treemap’, ‘qgam’, ‘rsae’, ‘rcdd’, ‘pedigreemm’, ‘multilevel’, ‘Infusion’, ‘IsoriX’, ‘blackbox’, ‘ROI.plugin.glpk’, ‘agridat’, ‘maxlike’, ‘R2OpenBUGS’, ‘R2WinBUGS’, ‘jagsUI’, ‘rngtools’, ‘doRedis’, ‘bibtex’, ‘pkgmaker’, ‘RcmdrMisc’, ‘aplpack’, ‘nortest’, ‘VarianceGamma’, ‘SkewHyperbolic’, ‘visNetwork’, ‘coro’, ‘redoc’, ‘rapidoc’, ‘LaplacesDemon’, ‘evd’, ‘hoa’, ‘skellam’, ‘triangle’, ‘paletteer’, ‘aod’, ‘insight’, ‘smd’, ‘workflows’, ‘afex’, ‘BayesFM’, ‘brglm2’, ‘cAIC4’, ‘cgam’, ‘ClassDiscovery’, ‘cplm’, ‘DRR’, ‘EGAnet’, ‘factoextra’, ‘FactoMineR’, ‘ivprobit’, ‘ivreg’, ‘lavaSearch2’, ‘lm.beta’, ‘lqmm’, ‘marginaleffects’, ‘metaBMA’, ‘mfx’, ‘NbClust’, ‘nFactors’, ‘panelr’, ‘PCDimension’, ‘PROreg’, ‘sjstats’, ‘WRS2’, ‘NISTunits’, ‘measurements’, ‘purrrlyr’, ‘pixmap’, ‘Guerry’, ‘pcaPP’, ‘rootSolve’, ‘diagram’, ‘BayesXsrc’, ‘MBA’, ‘wkb’, ‘changepoint’, ‘KFAS’, ‘MSwM’, ‘lfda’, ‘doMC’, ‘languageR’, ‘runjags’, ‘modeest’, ‘semTools’, ‘nimble’, ‘correlation’, ‘tidymodels’, ‘gdtools’, ‘beeswarm’, ‘ggplot2movies’, ‘gganimate’, ‘merTools’, ‘report’, ‘bigutilsr’, ‘ICS’, ‘ICSOutlier’, ‘ISLR’, ‘multimode’, ‘ggraph’, ‘ggside’, ‘qqplotr’, ‘doFuture’, ‘glba’, ‘binom’, ‘mbest’, ‘jsonify’, ‘colourvalues’, ‘sfheaders’, ‘ggmap’, ‘adehabitatMA’, ‘trajectories’, ‘data.tree’, ‘netrankr’, ‘influenceR’, ‘NetSwan’, ‘mgcViz’, ‘spaMM’, ‘emdbook’, ‘AICcmodavg’, ‘hasseDiagram’, ‘tictoc’, ‘writexl’, ‘stringdist’, ‘denstrip’, ‘FMStable’, ‘flexsurvcure’, ‘survminer’, ‘eha’, ‘equatags’, ‘qpdf’, ‘devEMF’, ‘doRNG’, ‘irlba’, ‘Rcmdr’, ‘ramcmc’, ‘sde’, ‘sitmo’, ‘mc2d’, ‘GeneralizedHyperbolic’, ‘qcc’, ‘r2d2’, ‘NHANES’, ‘formatR’, ‘R.methodsS3’, ‘plumber’, ‘rsample’, ‘Metrics’, ‘tfestimators’, ‘extraDistr’, ‘GoFKernel’, ‘R62S3’, ‘prettydoc’, ‘ggbeeswarm’, ‘biglmm’, ‘gt’, ‘gtsummary’, ‘parameters’, ‘tidycmprsk’, ‘concaveman’, ‘units’, ‘questionr’, ‘snakecase’, ‘statnet.common’, ‘R2HTML’, ‘SGPdata’, ‘vcr’, ‘ade4TkGUI’, ‘adegraphics’, ‘adephylo’, ‘CircStats’, ‘splancs’, ‘waveslim’, ‘permute’, ‘rainbow’, ‘FME’, ‘spam64’, ‘truncdist’, ‘whoami’, ‘R2BayesX’, ‘spData’, ‘spatialreg’, ‘dbscan’, ‘RSpectra’, ‘classInt’, ‘rgeoda’, ‘ggfortify’, ‘loo’, ‘shinystan’, ‘BayesFactor’, ‘bayesQR’, ‘blavaan’, ‘bridgesampling’, ‘effectsize’, ‘ggdist’, ‘ggridges’, ‘modelbased’, ‘performance’, ‘posterior’, ‘see’, ‘projpred’, ‘RWiener’, ‘rtdists’, ‘mnormt’, ‘splines2’, ‘arm’, ‘speedglm’, ‘pgirmess’, ‘skpr’, ‘geojsonsf’, ‘googleway’, ‘spatialwidget’, ‘geoknife’, ‘areal’, ‘adehabitatLT’, ‘cshapes’, ‘ISOcodes’, ‘sftime’, ‘httptest2’, ‘tidygraph’, ‘shinythemes’, ‘isa2’, ‘tree’, ‘psychTools’, ‘GPArotation’, ‘Rcsdp’, ‘miscTools’, ‘dlm’, ‘polycor’, ‘inlinedocs’, ‘lavaan.survey’, ‘pbivnorm’, ‘pbv’, ‘DHARMa’, ‘bbmle’, ‘mvabund’, ‘orthopolynom’, ‘bayesm’, ‘StanHeaders’, ‘RcppEigen’, ‘BH’, ‘rjags’, ‘meta’, ‘netmeta’, ‘NlcOptim’, ‘robumeta’, ‘expint’, ‘ROI’, ‘sjmisc’, ‘sjPlot’, ‘WrightMap’, ‘rpanel’, ‘TTR’, ‘downloader’, ‘stabledist’, ‘flexsurv’, ‘flextable’, ‘ftExtra’, ‘officer’, ‘openxlsx’, ‘quarto’, ‘benchr’, ‘bife’, ‘gridBase’, ‘icenReg’, ‘GA’, ‘Rtsne’, ‘umap’, ‘bezier’, ‘relimp’, ‘DescTools’, ‘pryr’, ‘invgamma’, ‘ipumsr’, ‘bssm’, ‘fitdistrplus’, ‘EnvStats’, ‘drc’, ‘TRAMPR’, ‘stargazer’, ‘pinp’, ‘gplots’, ‘agricolae’, ‘mosaic’, ‘texPreview’, ‘R.oo’, ‘formattable’, ‘rsconnect’, ‘servr’, ‘tufte’, ‘relsurv’, ‘date’, ‘seasonalview’, ‘tfdatasets’, ‘jpeg’, ‘lightgbm’, ‘distr6’, ‘future.callr’, ‘mlr3data’, ‘dials’, ‘ggrepel’, ‘tensorflow’, ‘janeaustenr’, ‘Lahman’, ‘nycflights13’, ‘broom.helpers’, ‘geosphere’, ‘ggforce’, ‘intergraph’, ‘labelled’, ‘network’, ‘scagnostics’, ‘sna’, ‘itertools’, ‘BatchJobs’, ‘scalreg’, ‘R.devices’, ‘ascii’, ‘binda’, ‘Rglpk’, ‘Rsymphony’, ‘SGP’, ‘taxize’, ‘ade4’, ‘vegan’, ‘futile.logger’, ‘fds’, ‘deSolve’, ‘spam’, ‘sn’, ‘pkgKitten’, ‘plot3D’, ‘KrigInv’, ‘GPareto’, ‘gamboostLSS’, ‘shapefiles’, ‘spdep’, ‘gpclib’, ‘BBmisc’, ‘combinat’, ‘partitions’, ‘bayesplot’, ‘bayestestR’, ‘brms’, ‘mediation’, ‘multcompView’, ‘lmerTest’, ‘MuMIn’, ‘DoE.wrapper’, ‘FrF2.catlg128’, ‘BsMD’, ‘leaflet.extras2’, ‘leafsync’, ‘mapdeck’, ‘plainview’, ‘poorman’, ‘s2’, ‘DBItest’, ‘RMySQL’, ‘RandomFieldsUtils’, ‘abind’, ‘PCICt’, ‘RNetCDF’, ‘cubelyr’, ‘ncdfgeom’, ‘ncmeta’, ‘spacetime’, ‘rmapshaper’, ‘cartogram’, ‘osmdata’, ‘fastmatch’, ‘DiagrammeRsvg’, ‘arulesViz’, ‘arulesCBA’, ‘biclust’, ‘cba’, ‘corrplot’, ‘doBy’, ‘fBasics’, ‘ggdendro’, ‘janitor’, ‘psych’, ‘RODBC’, ‘SnowballC’, ‘dfidx’, ‘maxLik’, ‘sem’, ‘directlabels’, ‘Rsolnp’, ‘nloptr’, ‘sirt’, ‘plink’, ‘mirtCAT’, ‘rchallenge’, ‘dotwhisker’, ‘GLMMadaptive’, ‘glmmTMB’, ‘MCMCglmm’, ‘rstan’, ‘rstanarm’, ‘rstantools’, ‘R2jags’, ‘TMB’, ‘metadat’, ‘pracma’, ‘minqa’, ‘ucminf’, ‘lbfgsb3c’, ‘subplex’, ‘BB’, ‘optimParallel’, ‘BiasedUrn’, ‘gsl’, ‘clubSandwich’, ‘wildmeta’, ‘Amelia’, ‘BIFIEsurvey’, ‘blme’, ‘CDM’, ‘inline’, ‘MBESS’, ‘mdmb’, ‘sjlabelled’, ‘synthpop’, ‘TAM’, ‘mitools’, ‘R.matlab’, ‘sm’, ‘nleqslv’, ‘fftw’, ‘rnaturalearthdata’, ‘round’, ‘lokern’, ‘quantmod’, ‘googleVis’, ‘RPESE’, ‘RobStatTM’, ‘setRNG’, ‘lbfgs’, ‘tweedie’, ‘piecewiseSEM’, ‘msm’, ‘pglm’, ‘splm’, ‘huxtable’, ‘cubature’, ‘alpaca’, ‘candisc’, ‘corrgram’, ‘animation’, ‘mvinfluence’, ‘estimability’, ‘distro’, ‘duckdb’, ‘nanotime’, ‘coneproj’, ‘faraway’, ‘mets’, ‘ssanv’, ‘Exact’, ‘BlakerCI’, ‘flexdashboard’, ‘seriation’, ‘heatmaply’, ‘dynamicTreeCut’, ‘pvclust’, ‘DendSer’, ‘circlize’, ‘VGAMdata’, ‘qvcalc’, ‘glmmML’, ‘Ecfun’, ‘wooldridge’, ‘RcppZiggurat’, ‘NLP’, ‘antiword’, ‘filehash’, ‘Rpoppler’, ‘gmodels’, ‘Fahrmeir’, ‘Sleuth2’, ‘slackr’, ‘RPushbullet’, ‘telegram’, ‘rsyslog’, ‘txtq’, ‘botor’, ‘R.utils’, ‘syslognet’, ‘kableExtra’, ‘bookdown’, ‘mstate’, ‘demography’, ‘popEpi’, ‘forecTheta’, ‘rticles’, ‘seasonal’, ‘uroot’, ‘ICEbox’, ‘keras’, ‘reticulate’, ‘Ckmeans.1d.dp’, ‘fastshap’, ‘mlr3’, ‘NeuralNetTools’, ‘parsnip’, ‘sparkline’, ‘sparklyr’, ‘hexbin’, ‘dichromat’, ‘rasterVis’, ‘mapproj’, ‘eaf’, ‘GGally’, ‘lhs’, ‘bartMachineJARs’, ‘missForest’, ‘debugme’, ‘doMPI’, ‘future.batchtools’, ‘parallelMap’, ‘truncnorm’, ‘hdi’, ‘R.rsp’, ‘corpcor’, ‘crossval’, ‘lpSolve’, ‘quadprog’, ‘relations’, ‘gtools’, ‘OpenImageR’, ‘FD’, ‘Cairo’, ‘gridGraphics’, ‘PASWR’, ‘patchwork’, ‘VennDiagram’, ‘fda’, ‘fields’, ‘mapdata’, ‘chemometrics’, ‘tclust’, ‘pdfCluster’, ‘RcppArmadillo’, ‘entropy’, ‘pbapply’, ‘slam’, ‘plot3Drgl’, ‘acepack’, ‘DiceOptim’, ‘patrick’, ‘stabs’, ‘BayesX’, ‘kangar00’, ‘mldr.datasets’, ‘cmaesr’, ‘cmprsk’, ‘pwr’, ‘NSM3’, ‘imbalance’, ‘emmeans’, ‘conf.design’, ‘DoE.base’, ‘FrF2’, ‘dtw’, ‘rbenchmark’, ‘fdrtool’, ‘lwgeom’, ‘mapview’, ‘odbc’, ‘pool’, ‘RPostgres’, ‘RPostgreSQL’, ‘RSQLite’, ‘spatstat.random’, ‘stars’, ‘terra’, ‘tmap’, ‘wk’, ‘checkmate’, ‘rlecuyer’, ‘fontquiver’, ‘Mcomp’, ‘DiagrammeR’, ‘float’, ‘titanic’, ‘amap’, ‘arules’, ‘neighbr’, ‘rattle’, ‘fGarch’, ‘ineq’, ‘longmemo’, ‘mlogit’, ‘np’, ‘rugarch’, ‘sampleSelection’, ‘systemfit’, ‘truncreg’, ‘urca’, ‘vars’, ‘likert’, ‘mirt’, ‘stablelearner’, ‘broom.mixed’, ‘decor’, ‘metafor’, ‘mitml’, ‘miceadds’, ‘pan’, ‘av’, ‘spelling’, ‘rsvg’, ‘webp’, ‘pdftools’, ‘gapminder’, ‘tesseract’, ‘gifski’, ‘geometry’, ‘alphahull’, ‘fontcm’, ‘dygraphs’, ‘leaflet’, ‘showimage’, ‘spatstat.data’, ‘spatstat.core’, ‘spatial’, ‘fftwtools’, ‘rnaturalearth’, ‘ncdf4’, ‘exactextractr’, ‘goftest’, ‘RJSONIO’, ‘tth’, ‘igraphdata’, ‘gmp’, ‘Bessel’, ‘polynom’, ‘sfsmisc’, ‘PerformanceAnalytics’, ‘fTrading’, ‘MEMSS’, ‘mlmRev’, ‘optimx’, ‘gamm4’, ‘pbkrtest’, ‘dfoptim’, ‘statmod’, ‘rr2’, ‘semEff’, ‘pder’, ‘texreg’, ‘lfe’, ‘MCMCpack’, ‘bdsmatrix’, ‘kinship2’, ‘poLCA’, ‘heplots’, ‘betareg’, ‘robustlmm’, ‘biglm’, ‘arrow’, ‘feather’, ‘fst’, ‘hexView’, ‘pzfx’, ‘readODS’, ‘rmatio’, ‘CompQuadForm’, ‘basefun’, ‘variables’, ‘nor1mix’, ‘conquer’, ‘nonnest2’, ‘lavaan’, ‘ICsurv’, ‘polspline’, ‘bshazard’, ‘gss’, ‘TransModel’, ‘dynsurv’, ‘timereg’, ‘survivalMPL’, ‘muhaz’, ‘exact2x2’, ‘exactci’, ‘bpcp’, ‘bootstrap’, ‘gamlss.dist’, ‘ggthemes’, ‘shinytest’, ‘webshot’, ‘listviewer’, ‘dendextend’, ‘plotlyGeoAssets’, ‘palmerpenguins’, ‘VGAMextra’, ‘robust’, ‘fit.models’, ‘MPV’, ‘catdata’, ‘skewt’, ‘expm’, ‘diptest’, ‘Ecdat’, ‘gclus’, ‘SuppDists’, ‘mix’, ‘tm’, ‘vcdExtra’, ‘sylly’, ‘sylly.en’, ‘logger’, ‘microbenchmark’, ‘descr’, ‘tables’, ‘reshape’, ‘memisc’, ‘Epi’, ‘forecast’, ‘pdp’, ‘tinytest’, ‘vip’, ‘viridis’, ‘lars’, ‘doParallel’, ‘ParamHelpers’, ‘ada’, ‘adabag’, ‘bartMachine’, ‘batchtools’, ‘brnn’, ‘bst’, ‘care’, ‘clue’, ‘ClusterR’, ‘clusterSim’, ‘cmaes’, ‘cowplot’, ‘crs’, ‘deepnet’, ‘DiceKriging’, ‘elasticnet’, ‘emoa’, ‘evtree’, ‘fda.usc’, ‘FDboost’, ‘FNN’, ‘fpc’, ‘frbs’, ‘FSelector’, ‘FSelectorRcpp’, ‘GenSA’, ‘ggpubr’, ‘GPfit’, ‘h2o’, ‘Hmisc’, ‘irace’, ‘kknn’, ‘laGP’, ‘LiblineaR’, ‘lintr’, ‘mboost’, ‘mco’, ‘mldr’, ‘mlrMBO’, ‘mmpf’, ‘mRMRe’, ‘pec’, ‘penalized’, ‘PMCMRplus’, ‘praznik’, ‘randomForestSRC’, ‘refund’, ‘rex’, ‘rFerns’, ‘rgenoud’, ‘ROCR’, ‘rotationForest’, ‘RRF’, ‘rsm’, ‘RSNNS’, ‘rucrdtw’, ‘RWeka’, ‘sda’, ‘sf’, ‘smoof’, ‘snow’, ‘sparseLDA’, ‘stepPlr’, ‘survAUC’, ‘svglite’, ‘SwarmSVM’, ‘tgp’, ‘tsfeatures’, ‘vdiffr’, ‘wavelets’, ‘xgboost’, ‘libcoin’, ‘pmml’, ‘rJava’, ‘AER’, ‘psychotools’, ‘psychotree’, ‘glmertree’, ‘mice’, ‘deldir’, ‘orientlib’, ‘misc3d’, ‘magick’, ‘tripack’, ‘alphashape3d’, ‘js’, ‘webshot2’, ‘extrafont’, ‘manipulateWidget’, ‘markdown’, ‘crosstalk’, ‘V8’, ‘chromote’, ‘rgeos’, ‘spatstat.geom’, ‘PBSmapping’, ‘maps’, ‘raster’, ‘polyclip’, ‘spatstat.linnet’, ‘spatstat.utils’, ‘spatstat’, ‘rgdal’, ‘gstat’, ‘exams’, ‘igraph’, ‘unix’, ‘Rmpfr’, ‘egg’, ‘coda’, ‘chron’, ‘mondate’, ‘stinepack’, ‘timeSeries’, ‘tis’, ‘xts’, ‘geepack’, ‘lme4’, ‘multiwayvcov’, ‘pcse’, ‘plm’, ‘pscl’, ‘carData’, ‘alr4’, ‘boot’, ‘coxme’, ‘effects’, ‘leaps’, ‘MatrixModels’, ‘rio’, ‘SparseM’, ‘survey’, ‘TSA’, ‘mlt’, ‘quantreg’, ‘merDeriv’, ‘SparseGrid’, ‘alabama’, ‘latticeExtra’, ‘ordinalCont’, ‘mlt.docreg’, ‘ordinal’, ‘asht’, ‘gamlss’, ‘plotly’, ‘rmsb’, ‘VGAM’, ‘robustbase’, ‘foreign’, ‘SimComp’, ‘ISwR’, ‘fixest’, ‘ape’, ‘flexmix’, ‘gamair’, ‘gamlss.data’, ‘gee’, ‘mclust’, ‘rmeta’, ‘wordcloud’, ‘HSAUR2’, ‘bitops’, ‘RCurl’, ‘gnm’, ‘testit’, ‘AmesHousing’, ‘C50’, ‘rpart.plot’, ‘pander’, ‘plotrix’, ‘gbm’, ‘glmnet’, ‘glmnetUtils’, ‘mlr’, ‘neuralnet’, ‘partykit’, ‘pre’, ‘tkrplot’, ‘rgl’, ‘tcltk2’, ‘png’, ‘logspline’, ‘maptools’, ‘manipulate’, ‘sp’, ‘Deriv’, ‘Ryacas’, ‘gridExtra’, ‘zoo’, ‘sandwich’, ‘car’, ‘dynlm’, ‘lmtest’, ‘tseries’, ‘gdata’, ‘trtf’, ‘tram’, ‘rms’, ‘coin’, ‘ATR’, ‘multcomp’, ‘HSAUR3’, ‘measures’, ‘ranger’, ‘XML’, ‘prefmod’, ‘DT’, ‘mockery’, ‘modeldata’, ‘tidyrules’, ‘Formula’, ‘plotmo’, ‘TeachingDemos’, ‘interp’, ‘scatterplot3d’, ‘som’, ‘cluster’, ‘mvtnorm’, ‘modeltools’, ‘strucchange’, ‘TH.data’, ‘vcd’, ‘varImp’, ‘Rmpi’, ‘RUnit’, ‘BradleyTerry2’, ‘covr’, ‘Cubist’, ‘earth’, ‘ellipse’, ‘fastICA’, ‘gam’, ‘kernlab’, ‘klaR’, ‘mda’, ‘mlbench’, ‘MLmetrics’, ‘pamr’, ‘party’, ‘pls’, ‘RANN’, ‘spls’, ‘subselect’, ‘superpc’, ‘themis’\n",
      "\n",
      "\n"
     ]
    }
   ],
   "source": [
    "install.packages(\"caret\", dependencies = c(\"Depends\", \"Suggests\"))"
   ]
  },
  {
   "cell_type": "code",
   "execution_count": null,
   "id": "08352fc4-bc9c-466e-8a98-097740811fe2",
   "metadata": {},
   "outputs": [],
   "source": [
    "# create a list of 80% of the rows in the original dataset we can use for training\n",
    "validation_index <- createDataPartition(dataset$Species, p=0.80, list=FALSE)\n",
    "# select 20% of the data for validation\n",
    "validation <- dataset[-validation_index,]\n",
    "# use the remaining 80% of data to training and testing the models\n",
    "dataset <- dataset[validation_index,]"
   ]
  },
  {
   "cell_type": "code",
   "execution_count": null,
   "id": "4655d85e-4b68-403f-bfdb-678bffa6d066",
   "metadata": {},
   "outputs": [],
   "source": []
  },
  {
   "cell_type": "code",
   "execution_count": null,
   "id": "eab2c2e6-8c37-414e-bce6-7c7cd684bf06",
   "metadata": {},
   "outputs": [],
   "source": []
  }
 ],
 "metadata": {
  "kernelspec": {
   "display_name": "R",
   "language": "R",
   "name": "ir"
  },
  "language_info": {
   "codemirror_mode": "r",
   "file_extension": ".r",
   "mimetype": "text/x-r-source",
   "name": "R",
   "pygments_lexer": "r",
   "version": "4.0.5"
  }
 },
 "nbformat": 4,
 "nbformat_minor": 5
}
